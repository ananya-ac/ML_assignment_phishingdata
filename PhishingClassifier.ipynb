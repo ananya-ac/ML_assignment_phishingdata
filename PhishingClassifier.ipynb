{
 "cells": [
  {
   "cell_type": "markdown",
   "id": "de3e879a-15fb-4838-8b48-87517c923c1a",
   "metadata": {},
   "source": [
    "## Classifying Phishing Data"
   ]
  },
  {
   "cell_type": "markdown",
   "id": "b619f6b7-a407-4061-8ef0-766d180b5acc",
   "metadata": {},
   "source": [
    "### Import libraries"
   ]
  },
  {
   "cell_type": "code",
   "execution_count": 1,
   "id": "17833b2f-5548-47f9-9696-cd401c512b6f",
   "metadata": {},
   "outputs": [],
   "source": [
    "import pandas as pd\n",
    "import numpy as np\n",
    "from sklearn.model_selection import train_test_split,cross_val_score\n",
    "from lightgbm import LGBMClassifier\n",
    "from sklearn.compose import make_column_transformer\n",
    "from sklearn.preprocessing import OneHotEncoder\n",
    "from sklearn.pipeline import make_pipeline\n",
    "import seaborn as sns\n"
   ]
  },
  {
   "cell_type": "markdown",
   "id": "a1ed23c6-4260-46e3-9229-77838de79d54",
   "metadata": {},
   "source": [
    "### Data Analysis"
   ]
  },
  {
   "cell_type": "code",
   "execution_count": 2,
   "id": "7f1caa63-b4dc-49a1-a940-6ee71467f231",
   "metadata": {
    "tags": []
   },
   "outputs": [
    {
     "name": "stdout",
     "output_type": "stream",
     "text": [
      "(2456, 31)\n",
      "having_IP_Address              int64\n",
      "URL_Length                     int64\n",
      "Shortining_Service             int64\n",
      "having_At_Symbol               int64\n",
      "double_slash_redirecting       int64\n",
      "Prefix_Suffix                  int64\n",
      "having_Sub_Domain              int64\n",
      "SSLfinal_State                 int64\n",
      "Domain_registeration_length    int64\n",
      "Favicon                        int64\n",
      "port                           int64\n",
      "HTTPS_token                    int64\n",
      "Request_URL                    int64\n",
      "URL_of_Anchor                  int64\n",
      "Links_in_tags                  int64\n",
      "SFH                            int64\n",
      "Submitting_to_email            int64\n",
      "Abnormal_URL                   int64\n",
      "Redirect                       int64\n",
      "on_mouseover                   int64\n",
      "RightClick                     int64\n",
      "popUpWidnow                    int64\n",
      "Iframe                         int64\n",
      "age_of_domain                  int64\n",
      "DNSRecord                      int64\n",
      "web_traffic                    int64\n",
      "Page_Rank                      int64\n",
      "Google_Index                   int64\n",
      "Links_pointing_to_page         int64\n",
      "Statistical_report             int64\n",
      "Result                         int64\n",
      "dtype: object\n"
     ]
    }
   ],
   "source": [
    "phishing_data=pd.read_csv('Phishing Data - Phishing Data.csv')\n",
    "print(phishing_data.shape)\n",
    "print(phishing_data.dtypes)"
   ]
  },
  {
   "cell_type": "code",
   "execution_count": 3,
   "id": "bca8114f-6893-4b41-8f43-d1f5b3855fba",
   "metadata": {},
   "outputs": [
    {
     "data": {
      "text/plain": [
       "0    1362\n",
       "1    1094\n",
       "Name: Result, dtype: int64"
      ]
     },
     "execution_count": 3,
     "metadata": {},
     "output_type": "execute_result"
    }
   ],
   "source": [
    "phishing_data.Result.value_counts()"
   ]
  },
  {
   "cell_type": "code",
   "execution_count": 4,
   "id": "7b1330d4-33df-48d3-b084-10c6c326c244",
   "metadata": {},
   "outputs": [
    {
     "data": {
      "text/html": [
       "<div>\n",
       "<style scoped>\n",
       "    .dataframe tbody tr th:only-of-type {\n",
       "        vertical-align: middle;\n",
       "    }\n",
       "\n",
       "    .dataframe tbody tr th {\n",
       "        vertical-align: top;\n",
       "    }\n",
       "\n",
       "    .dataframe thead th {\n",
       "        text-align: right;\n",
       "    }\n",
       "</style>\n",
       "<table border=\"1\" class=\"dataframe\">\n",
       "  <thead>\n",
       "    <tr style=\"text-align: right;\">\n",
       "      <th></th>\n",
       "      <th>having_IP_Address</th>\n",
       "      <th>URL_Length</th>\n",
       "      <th>Shortining_Service</th>\n",
       "      <th>having_At_Symbol</th>\n",
       "      <th>double_slash_redirecting</th>\n",
       "      <th>Prefix_Suffix</th>\n",
       "      <th>having_Sub_Domain</th>\n",
       "      <th>SSLfinal_State</th>\n",
       "      <th>Domain_registeration_length</th>\n",
       "      <th>Favicon</th>\n",
       "      <th>...</th>\n",
       "      <th>popUpWidnow</th>\n",
       "      <th>Iframe</th>\n",
       "      <th>age_of_domain</th>\n",
       "      <th>DNSRecord</th>\n",
       "      <th>web_traffic</th>\n",
       "      <th>Page_Rank</th>\n",
       "      <th>Google_Index</th>\n",
       "      <th>Links_pointing_to_page</th>\n",
       "      <th>Statistical_report</th>\n",
       "      <th>Result</th>\n",
       "    </tr>\n",
       "  </thead>\n",
       "  <tbody>\n",
       "    <tr>\n",
       "      <th>count</th>\n",
       "      <td>2456.000000</td>\n",
       "      <td>2456.000000</td>\n",
       "      <td>2456.000000</td>\n",
       "      <td>2456.000000</td>\n",
       "      <td>2456.000000</td>\n",
       "      <td>2456.000000</td>\n",
       "      <td>2456.000000</td>\n",
       "      <td>2456.000000</td>\n",
       "      <td>2456.000000</td>\n",
       "      <td>2456.000000</td>\n",
       "      <td>...</td>\n",
       "      <td>2456.000000</td>\n",
       "      <td>2456.000000</td>\n",
       "      <td>2456.000000</td>\n",
       "      <td>2456.000000</td>\n",
       "      <td>2456.000000</td>\n",
       "      <td>2456.000000</td>\n",
       "      <td>2456.000000</td>\n",
       "      <td>2456.000000</td>\n",
       "      <td>2456.000000</td>\n",
       "      <td>2456.000000</td>\n",
       "    </tr>\n",
       "    <tr>\n",
       "      <th>mean</th>\n",
       "      <td>0.113192</td>\n",
       "      <td>-0.649837</td>\n",
       "      <td>0.122964</td>\n",
       "      <td>0.054560</td>\n",
       "      <td>0.125407</td>\n",
       "      <td>-0.254886</td>\n",
       "      <td>-0.185668</td>\n",
       "      <td>0.255700</td>\n",
       "      <td>0.018730</td>\n",
       "      <td>0.189739</td>\n",
       "      <td>...</td>\n",
       "      <td>0.196254</td>\n",
       "      <td>0.092020</td>\n",
       "      <td>-0.003257</td>\n",
       "      <td>0.536645</td>\n",
       "      <td>0.304560</td>\n",
       "      <td>-0.540717</td>\n",
       "      <td>0.139658</td>\n",
       "      <td>0.344463</td>\n",
       "      <td>0.179153</td>\n",
       "      <td>0.445440</td>\n",
       "    </tr>\n",
       "    <tr>\n",
       "      <th>std</th>\n",
       "      <td>0.316892</td>\n",
       "      <td>0.752690</td>\n",
       "      <td>0.328463</td>\n",
       "      <td>0.227166</td>\n",
       "      <td>0.331247</td>\n",
       "      <td>0.676170</td>\n",
       "      <td>0.802068</td>\n",
       "      <td>0.912332</td>\n",
       "      <td>0.798455</td>\n",
       "      <td>0.392175</td>\n",
       "      <td>...</td>\n",
       "      <td>0.397244</td>\n",
       "      <td>0.289112</td>\n",
       "      <td>0.939726</td>\n",
       "      <td>0.498757</td>\n",
       "      <td>0.834146</td>\n",
       "      <td>0.757832</td>\n",
       "      <td>0.346702</td>\n",
       "      <td>0.568911</td>\n",
       "      <td>0.383559</td>\n",
       "      <td>0.497115</td>\n",
       "    </tr>\n",
       "    <tr>\n",
       "      <th>min</th>\n",
       "      <td>0.000000</td>\n",
       "      <td>-1.000000</td>\n",
       "      <td>0.000000</td>\n",
       "      <td>0.000000</td>\n",
       "      <td>0.000000</td>\n",
       "      <td>-1.000000</td>\n",
       "      <td>-1.000000</td>\n",
       "      <td>-1.000000</td>\n",
       "      <td>-1.000000</td>\n",
       "      <td>0.000000</td>\n",
       "      <td>...</td>\n",
       "      <td>0.000000</td>\n",
       "      <td>0.000000</td>\n",
       "      <td>-1.000000</td>\n",
       "      <td>0.000000</td>\n",
       "      <td>-1.000000</td>\n",
       "      <td>-1.000000</td>\n",
       "      <td>0.000000</td>\n",
       "      <td>-1.000000</td>\n",
       "      <td>0.000000</td>\n",
       "      <td>0.000000</td>\n",
       "    </tr>\n",
       "    <tr>\n",
       "      <th>25%</th>\n",
       "      <td>0.000000</td>\n",
       "      <td>-1.000000</td>\n",
       "      <td>0.000000</td>\n",
       "      <td>0.000000</td>\n",
       "      <td>0.000000</td>\n",
       "      <td>-1.000000</td>\n",
       "      <td>-1.000000</td>\n",
       "      <td>-1.000000</td>\n",
       "      <td>-1.000000</td>\n",
       "      <td>0.000000</td>\n",
       "      <td>...</td>\n",
       "      <td>0.000000</td>\n",
       "      <td>0.000000</td>\n",
       "      <td>-1.000000</td>\n",
       "      <td>0.000000</td>\n",
       "      <td>0.000000</td>\n",
       "      <td>-1.000000</td>\n",
       "      <td>0.000000</td>\n",
       "      <td>0.000000</td>\n",
       "      <td>0.000000</td>\n",
       "      <td>0.000000</td>\n",
       "    </tr>\n",
       "    <tr>\n",
       "      <th>50%</th>\n",
       "      <td>0.000000</td>\n",
       "      <td>-1.000000</td>\n",
       "      <td>0.000000</td>\n",
       "      <td>0.000000</td>\n",
       "      <td>0.000000</td>\n",
       "      <td>0.000000</td>\n",
       "      <td>0.000000</td>\n",
       "      <td>1.000000</td>\n",
       "      <td>0.000000</td>\n",
       "      <td>0.000000</td>\n",
       "      <td>...</td>\n",
       "      <td>0.000000</td>\n",
       "      <td>0.000000</td>\n",
       "      <td>0.000000</td>\n",
       "      <td>1.000000</td>\n",
       "      <td>1.000000</td>\n",
       "      <td>-1.000000</td>\n",
       "      <td>0.000000</td>\n",
       "      <td>0.000000</td>\n",
       "      <td>0.000000</td>\n",
       "      <td>0.000000</td>\n",
       "    </tr>\n",
       "    <tr>\n",
       "      <th>75%</th>\n",
       "      <td>0.000000</td>\n",
       "      <td>-1.000000</td>\n",
       "      <td>0.000000</td>\n",
       "      <td>0.000000</td>\n",
       "      <td>0.000000</td>\n",
       "      <td>0.000000</td>\n",
       "      <td>0.000000</td>\n",
       "      <td>1.000000</td>\n",
       "      <td>1.000000</td>\n",
       "      <td>0.000000</td>\n",
       "      <td>...</td>\n",
       "      <td>0.000000</td>\n",
       "      <td>0.000000</td>\n",
       "      <td>1.000000</td>\n",
       "      <td>1.000000</td>\n",
       "      <td>1.000000</td>\n",
       "      <td>0.000000</td>\n",
       "      <td>0.000000</td>\n",
       "      <td>1.000000</td>\n",
       "      <td>0.000000</td>\n",
       "      <td>1.000000</td>\n",
       "    </tr>\n",
       "    <tr>\n",
       "      <th>max</th>\n",
       "      <td>1.000000</td>\n",
       "      <td>1.000000</td>\n",
       "      <td>1.000000</td>\n",
       "      <td>1.000000</td>\n",
       "      <td>1.000000</td>\n",
       "      <td>1.000000</td>\n",
       "      <td>1.000000</td>\n",
       "      <td>1.000000</td>\n",
       "      <td>1.000000</td>\n",
       "      <td>1.000000</td>\n",
       "      <td>...</td>\n",
       "      <td>1.000000</td>\n",
       "      <td>1.000000</td>\n",
       "      <td>1.000000</td>\n",
       "      <td>1.000000</td>\n",
       "      <td>1.000000</td>\n",
       "      <td>1.000000</td>\n",
       "      <td>1.000000</td>\n",
       "      <td>1.000000</td>\n",
       "      <td>1.000000</td>\n",
       "      <td>1.000000</td>\n",
       "    </tr>\n",
       "  </tbody>\n",
       "</table>\n",
       "<p>8 rows × 31 columns</p>\n",
       "</div>"
      ],
      "text/plain": [
       "       having_IP_Address   URL_Length  Shortining_Service  having_At_Symbol  \\\n",
       "count        2456.000000  2456.000000         2456.000000       2456.000000   \n",
       "mean            0.113192    -0.649837            0.122964          0.054560   \n",
       "std             0.316892     0.752690            0.328463          0.227166   \n",
       "min             0.000000    -1.000000            0.000000          0.000000   \n",
       "25%             0.000000    -1.000000            0.000000          0.000000   \n",
       "50%             0.000000    -1.000000            0.000000          0.000000   \n",
       "75%             0.000000    -1.000000            0.000000          0.000000   \n",
       "max             1.000000     1.000000            1.000000          1.000000   \n",
       "\n",
       "       double_slash_redirecting  Prefix_Suffix  having_Sub_Domain  \\\n",
       "count               2456.000000    2456.000000        2456.000000   \n",
       "mean                   0.125407      -0.254886          -0.185668   \n",
       "std                    0.331247       0.676170           0.802068   \n",
       "min                    0.000000      -1.000000          -1.000000   \n",
       "25%                    0.000000      -1.000000          -1.000000   \n",
       "50%                    0.000000       0.000000           0.000000   \n",
       "75%                    0.000000       0.000000           0.000000   \n",
       "max                    1.000000       1.000000           1.000000   \n",
       "\n",
       "       SSLfinal_State  Domain_registeration_length      Favicon  ...  \\\n",
       "count     2456.000000                  2456.000000  2456.000000  ...   \n",
       "mean         0.255700                     0.018730     0.189739  ...   \n",
       "std          0.912332                     0.798455     0.392175  ...   \n",
       "min         -1.000000                    -1.000000     0.000000  ...   \n",
       "25%         -1.000000                    -1.000000     0.000000  ...   \n",
       "50%          1.000000                     0.000000     0.000000  ...   \n",
       "75%          1.000000                     1.000000     0.000000  ...   \n",
       "max          1.000000                     1.000000     1.000000  ...   \n",
       "\n",
       "       popUpWidnow       Iframe  age_of_domain    DNSRecord  web_traffic  \\\n",
       "count  2456.000000  2456.000000    2456.000000  2456.000000  2456.000000   \n",
       "mean      0.196254     0.092020      -0.003257     0.536645     0.304560   \n",
       "std       0.397244     0.289112       0.939726     0.498757     0.834146   \n",
       "min       0.000000     0.000000      -1.000000     0.000000    -1.000000   \n",
       "25%       0.000000     0.000000      -1.000000     0.000000     0.000000   \n",
       "50%       0.000000     0.000000       0.000000     1.000000     1.000000   \n",
       "75%       0.000000     0.000000       1.000000     1.000000     1.000000   \n",
       "max       1.000000     1.000000       1.000000     1.000000     1.000000   \n",
       "\n",
       "         Page_Rank  Google_Index  Links_pointing_to_page  Statistical_report  \\\n",
       "count  2456.000000   2456.000000             2456.000000         2456.000000   \n",
       "mean     -0.540717      0.139658                0.344463            0.179153   \n",
       "std       0.757832      0.346702                0.568911            0.383559   \n",
       "min      -1.000000      0.000000               -1.000000            0.000000   \n",
       "25%      -1.000000      0.000000                0.000000            0.000000   \n",
       "50%      -1.000000      0.000000                0.000000            0.000000   \n",
       "75%       0.000000      0.000000                1.000000            0.000000   \n",
       "max       1.000000      1.000000                1.000000            1.000000   \n",
       "\n",
       "            Result  \n",
       "count  2456.000000  \n",
       "mean      0.445440  \n",
       "std       0.497115  \n",
       "min       0.000000  \n",
       "25%       0.000000  \n",
       "50%       0.000000  \n",
       "75%       1.000000  \n",
       "max       1.000000  \n",
       "\n",
       "[8 rows x 31 columns]"
      ]
     },
     "execution_count": 4,
     "metadata": {},
     "output_type": "execute_result"
    }
   ],
   "source": [
    "phishing_data.describe()"
   ]
  },
  {
   "cell_type": "markdown",
   "id": "c32fe91a-7f6b-43d4-aaa1-ec1fbdb58dc5",
   "metadata": {},
   "source": [
    "### Instantiating a LightGBM Classifier as the predictor"
   ]
  },
  {
   "cell_type": "markdown",
   "id": "bb28513c-2532-4226-a74f-6b5cacb9f31a",
   "metadata": {},
   "source": [
    "The pipeline first one hot encodes the columns defined earlier and then instantiates the model"
   ]
  },
  {
   "cell_type": "markdown",
   "id": "3dee21f8-66e3-4dab-a11d-ce1c65d584f0",
   "metadata": {},
   "source": [
    "I chose the LightGBM classifier for the task as ensemble methods with decision trees have proven to be very high performance but not computationally heavy models. My high level understanding of gradient boosting is that many weak predictors can be combined to form a strong predictor, where the combined weights of the weak predictors are tuned during training."
   ]
  },
  {
   "cell_type": "code",
   "execution_count": 5,
   "id": "41bacb50-3a61-4d60-91f1-49e318584eff",
   "metadata": {},
   "outputs": [],
   "source": [
    "classifier=LGBMClassifier()\n"
   ]
  },
  {
   "cell_type": "markdown",
   "id": "8c575fe3-9d57-4940-888b-bb310e58376f",
   "metadata": {},
   "source": [
    "### Instantiating the Features X and target y"
   ]
  },
  {
   "cell_type": "code",
   "execution_count": 6,
   "id": "a29f6598-0d42-4fbf-af9f-f4a43c2799ee",
   "metadata": {},
   "outputs": [],
   "source": [
    "X=phishing_data.drop('Result',axis='columns')\n",
    "y=phishing_data['Result']\n"
   ]
  },
  {
   "cell_type": "markdown",
   "id": "abbfb65b-814c-4442-b382-02d315db0877",
   "metadata": {},
   "source": [
    "### Fitting the model"
   ]
  },
  {
   "cell_type": "code",
   "execution_count": 7,
   "id": "f7a6d649-d4a3-4e7f-8cf6-5ed5afd56e36",
   "metadata": {},
   "outputs": [
    {
     "data": {
      "text/html": [
       "<style>#sk-container-id-1 {color: black;background-color: white;}#sk-container-id-1 pre{padding: 0;}#sk-container-id-1 div.sk-toggleable {background-color: white;}#sk-container-id-1 label.sk-toggleable__label {cursor: pointer;display: block;width: 100%;margin-bottom: 0;padding: 0.3em;box-sizing: border-box;text-align: center;}#sk-container-id-1 label.sk-toggleable__label-arrow:before {content: \"▸\";float: left;margin-right: 0.25em;color: #696969;}#sk-container-id-1 label.sk-toggleable__label-arrow:hover:before {color: black;}#sk-container-id-1 div.sk-estimator:hover label.sk-toggleable__label-arrow:before {color: black;}#sk-container-id-1 div.sk-toggleable__content {max-height: 0;max-width: 0;overflow: hidden;text-align: left;background-color: #f0f8ff;}#sk-container-id-1 div.sk-toggleable__content pre {margin: 0.2em;color: black;border-radius: 0.25em;background-color: #f0f8ff;}#sk-container-id-1 input.sk-toggleable__control:checked~div.sk-toggleable__content {max-height: 200px;max-width: 100%;overflow: auto;}#sk-container-id-1 input.sk-toggleable__control:checked~label.sk-toggleable__label-arrow:before {content: \"▾\";}#sk-container-id-1 div.sk-estimator input.sk-toggleable__control:checked~label.sk-toggleable__label {background-color: #d4ebff;}#sk-container-id-1 div.sk-label input.sk-toggleable__control:checked~label.sk-toggleable__label {background-color: #d4ebff;}#sk-container-id-1 input.sk-hidden--visually {border: 0;clip: rect(1px 1px 1px 1px);clip: rect(1px, 1px, 1px, 1px);height: 1px;margin: -1px;overflow: hidden;padding: 0;position: absolute;width: 1px;}#sk-container-id-1 div.sk-estimator {font-family: monospace;background-color: #f0f8ff;border: 1px dotted black;border-radius: 0.25em;box-sizing: border-box;margin-bottom: 0.5em;}#sk-container-id-1 div.sk-estimator:hover {background-color: #d4ebff;}#sk-container-id-1 div.sk-parallel-item::after {content: \"\";width: 100%;border-bottom: 1px solid gray;flex-grow: 1;}#sk-container-id-1 div.sk-label:hover label.sk-toggleable__label {background-color: #d4ebff;}#sk-container-id-1 div.sk-serial::before {content: \"\";position: absolute;border-left: 1px solid gray;box-sizing: border-box;top: 0;bottom: 0;left: 50%;z-index: 0;}#sk-container-id-1 div.sk-serial {display: flex;flex-direction: column;align-items: center;background-color: white;padding-right: 0.2em;padding-left: 0.2em;position: relative;}#sk-container-id-1 div.sk-item {position: relative;z-index: 1;}#sk-container-id-1 div.sk-parallel {display: flex;align-items: stretch;justify-content: center;background-color: white;position: relative;}#sk-container-id-1 div.sk-item::before, #sk-container-id-1 div.sk-parallel-item::before {content: \"\";position: absolute;border-left: 1px solid gray;box-sizing: border-box;top: 0;bottom: 0;left: 50%;z-index: -1;}#sk-container-id-1 div.sk-parallel-item {display: flex;flex-direction: column;z-index: 1;position: relative;background-color: white;}#sk-container-id-1 div.sk-parallel-item:first-child::after {align-self: flex-end;width: 50%;}#sk-container-id-1 div.sk-parallel-item:last-child::after {align-self: flex-start;width: 50%;}#sk-container-id-1 div.sk-parallel-item:only-child::after {width: 0;}#sk-container-id-1 div.sk-dashed-wrapped {border: 1px dashed gray;margin: 0 0.4em 0.5em 0.4em;box-sizing: border-box;padding-bottom: 0.4em;background-color: white;}#sk-container-id-1 div.sk-label label {font-family: monospace;font-weight: bold;display: inline-block;line-height: 1.2em;}#sk-container-id-1 div.sk-label-container {text-align: center;}#sk-container-id-1 div.sk-container {/* jupyter's `normalize.less` sets `[hidden] { display: none; }` but bootstrap.min.css set `[hidden] { display: none !important; }` so we also need the `!important` here to be able to override the default hidden behavior on the sphinx rendered scikit-learn.org. See: https://github.com/scikit-learn/scikit-learn/issues/21755 */display: inline-block !important;position: relative;}#sk-container-id-1 div.sk-text-repr-fallback {display: none;}</style><div id=\"sk-container-id-1\" class=\"sk-top-container\"><div class=\"sk-text-repr-fallback\"><pre>LGBMClassifier()</pre><b>In a Jupyter environment, please rerun this cell to show the HTML representation or trust the notebook. <br />On GitHub, the HTML representation is unable to render, please try loading this page with nbviewer.org.</b></div><div class=\"sk-container\" hidden><div class=\"sk-item\"><div class=\"sk-estimator sk-toggleable\"><input class=\"sk-toggleable__control sk-hidden--visually\" id=\"sk-estimator-id-1\" type=\"checkbox\" checked><label for=\"sk-estimator-id-1\" class=\"sk-toggleable__label sk-toggleable__label-arrow\">LGBMClassifier</label><div class=\"sk-toggleable__content\"><pre>LGBMClassifier()</pre></div></div></div></div></div>"
      ],
      "text/plain": [
       "LGBMClassifier()"
      ]
     },
     "execution_count": 7,
     "metadata": {},
     "output_type": "execute_result"
    }
   ],
   "source": [
    "classifier.fit(X,y)"
   ]
  },
  {
   "cell_type": "markdown",
   "id": "1b10c41f-2795-4cca-8554-a289103e37e4",
   "metadata": {},
   "source": [
    "### Results with metric as accuracy (i.e. correct predictions/total predictions)"
   ]
  },
  {
   "cell_type": "code",
   "execution_count": 8,
   "id": "8e4ec5aa-24ef-47af-86a7-00c43f431247",
   "metadata": {},
   "outputs": [
    {
     "name": "stdout",
     "output_type": "stream",
     "text": [
      "[0.9796748  0.98370672 0.97352342 0.97352342 0.97556008]\n"
     ]
    }
   ],
   "source": [
    "print(cross_val_score(classifier, X, y, scoring='accuracy'))\n"
   ]
  },
  {
   "cell_type": "markdown",
   "id": "149d5412-48a6-4895-ad8b-ab9bfab9e06a",
   "metadata": {},
   "source": [
    "Feature that affected data most"
   ]
  },
  {
   "cell_type": "code",
   "execution_count": 9,
   "id": "68586353-03fe-4769-a033-e5f230b1e79c",
   "metadata": {},
   "outputs": [
    {
     "data": {
      "text/plain": [
       "'Links_in_tags'"
      ]
     },
     "execution_count": 9,
     "metadata": {},
     "output_type": "execute_result"
    }
   ],
   "source": [
    "classifier.feature_name_[classifier.feature_importances_.argmax()]"
   ]
  }
 ],
 "metadata": {
  "kernelspec": {
   "display_name": "Python 3 (ipykernel)",
   "language": "python",
   "name": "python3"
  },
  "language_info": {
   "codemirror_mode": {
    "name": "ipython",
    "version": 3
   },
   "file_extension": ".py",
   "mimetype": "text/x-python",
   "name": "python",
   "nbconvert_exporter": "python",
   "pygments_lexer": "ipython3",
   "version": "3.10.4"
  }
 },
 "nbformat": 4,
 "nbformat_minor": 5
}
