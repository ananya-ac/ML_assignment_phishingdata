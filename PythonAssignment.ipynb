{
 "cells": [
  {
   "cell_type": "code",
   "execution_count": 14,
   "id": "d254fdcb-e119-44ec-a2db-16ef06c3eb75",
   "metadata": {},
   "outputs": [],
   "source": [
    "import pandas as pd \n",
    "import numpy as np"
   ]
  },
  {
   "cell_type": "code",
   "execution_count": 50,
   "id": "ce2cb819-da24-4f19-891e-e0fd516022c4",
   "metadata": {},
   "outputs": [],
   "source": [
    "import re"
   ]
  },
  {
   "cell_type": "markdown",
   "id": "a131fe43-64db-498e-8d17-aa7e50292ff5",
   "metadata": {},
   "source": [
    "##### I separated the scheme table and input table on excel to get two different csvs and read them in"
   ]
  },
  {
   "cell_type": "code",
   "execution_count": 92,
   "id": "0614bb86-7f35-4052-b2b0-7238c4950e26",
   "metadata": {},
   "outputs": [],
   "source": [
    "from pathlib import Path"
   ]
  },
  {
   "cell_type": "code",
   "execution_count": 15,
   "id": "6b0bd865-57a4-4902-ad4e-5d5a4b416e39",
   "metadata": {},
   "outputs": [],
   "source": [
    "input_df=pd.read_csv('Sample_Input.csv')"
   ]
  },
  {
   "cell_type": "code",
   "execution_count": 41,
   "id": "f78edd17-57a0-4dc8-a135-5e9af3a49758",
   "metadata": {},
   "outputs": [],
   "source": [
    "schema_df=pd.read_csv('Schema.csv').set_index('ItemName')"
   ]
  },
  {
   "cell_type": "code",
   "execution_count": 19,
   "id": "e1f45b8d-4eaa-44d6-bb39-ace3626b0389",
   "metadata": {},
   "outputs": [
    {
     "name": "stdout",
     "output_type": "stream",
     "text": [
      "(12751, 22)\n"
     ]
    }
   ],
   "source": [
    "print(input_df.shape)"
   ]
  },
  {
   "cell_type": "markdown",
   "id": "57eca33e-de3c-4d8b-80b0-352ee50b8765",
   "metadata": {},
   "source": [
    "##### Creating event time stamp column from the Date and Time columns and converting it to a datetime format"
   ]
  },
  {
   "cell_type": "code",
   "execution_count": 20,
   "id": "6713db39-be75-4ef4-9a15-149afc216586",
   "metadata": {},
   "outputs": [],
   "source": [
    "input_df['event_timestamp']=input_df['Date']+' ' +input_df['Time']\n",
    "input_df['event_timestamp']=pd.to_datetime(input_df['event_timestamp'],format='%d/%m/%Y %H:%M:%S')\n",
    "input_df.drop(['Date','Time'],axis='columns' ,inplace=True)"
   ]
  },
  {
   "cell_type": "markdown",
   "id": "3d8d695b-260e-4610-a69c-39b8694840bf",
   "metadata": {},
   "source": [
    "##### Reordering the list"
   ]
  },
  {
   "cell_type": "code",
   "execution_count": 21,
   "id": "73d78d18-9e0f-439f-838f-9a33f3f45285",
   "metadata": {},
   "outputs": [],
   "source": [
    "columns=input_df.columns.values.tolist()\n",
    "columns=[columns[-1]]+columns[0:-1]\n",
    "input_df=input_df[columns]"
   ]
  },
  {
   "cell_type": "markdown",
   "id": "5bf3d642-f725-48a0-a89d-b28252ae3b8e",
   "metadata": {},
   "source": [
    "##### Sampling values every 10s by max value per tag"
   ]
  },
  {
   "cell_type": "code",
   "execution_count": 22,
   "id": "8d1c5032-5fe6-4f72-ae01-7129275eecbf",
   "metadata": {},
   "outputs": [],
   "source": [
    "input_df.set_index('event_timestamp',inplace=True)\n",
    "resampled_df=input_df.resample('10s').max()\n",
    "resampled_df.reset_index(inplace=True)\n",
    "resampled_df.drop('Milli Sec',axis='columns',inplace=True)"
   ]
  },
  {
   "cell_type": "code",
   "execution_count": 23,
   "id": "09b4df12-870e-4f87-83a1-ea7250fd8b42",
   "metadata": {
    "tags": []
   },
   "outputs": [
    {
     "data": {
      "text/html": [
       "<div>\n",
       "<style scoped>\n",
       "    .dataframe tbody tr th:only-of-type {\n",
       "        vertical-align: middle;\n",
       "    }\n",
       "\n",
       "    .dataframe tbody tr th {\n",
       "        vertical-align: top;\n",
       "    }\n",
       "\n",
       "    .dataframe thead th {\n",
       "        text-align: right;\n",
       "    }\n",
       "</style>\n",
       "<table border=\"1\" class=\"dataframe\">\n",
       "  <thead>\n",
       "    <tr style=\"text-align: right;\">\n",
       "      <th></th>\n",
       "      <th>event_timestamp</th>\n",
       "      <th>L_R1SDW_SPDREF</th>\n",
       "      <th>L_R1SDD_SPDREF</th>\n",
       "      <th>L_R1SDL_SPDREF</th>\n",
       "      <th>L_R1SDW_SPDFBK</th>\n",
       "      <th>L_R1SDD_SPDFBK</th>\n",
       "      <th>L_R1SDL_SPDFBK</th>\n",
       "      <th>L_R1_ODG_AUX_B07</th>\n",
       "      <th>RM1_RUNDOWN_ID_HS</th>\n",
       "      <th>L_R1SD_WS_GAP</th>\n",
       "      <th>L_R1SD_DS_GAP</th>\n",
       "      <th>L_R1SD_WS_SPDREF</th>\n",
       "      <th>L_R1SD_DS_SPDREF</th>\n",
       "      <th>L_R1SDLS_SPDREF</th>\n",
       "      <th>L_R1SD_WS_SPDFBK</th>\n",
       "      <th>L_R1SD_DS_SPDFBK</th>\n",
       "      <th>L_R1SDLS_SPDFBK</th>\n",
       "      <th>L_R1SD_WS_CUR</th>\n",
       "      <th>L_R1SD_DS_CUR</th>\n",
       "      <th>L_R1_CNT_PASS0</th>\n",
       "    </tr>\n",
       "  </thead>\n",
       "  <tbody>\n",
       "    <tr>\n",
       "      <th>0</th>\n",
       "      <td>2022-05-06 21:58:30</td>\n",
       "      <td>0.000000</td>\n",
       "      <td>0.000000</td>\n",
       "      <td>0</td>\n",
       "      <td>0.0000</td>\n",
       "      <td>0.000000</td>\n",
       "      <td>0</td>\n",
       "      <td>1</td>\n",
       "      <td>225726050</td>\n",
       "      <td>194.680008</td>\n",
       "      <td>194.619995</td>\n",
       "      <td>0.000000</td>\n",
       "      <td>0.000000</td>\n",
       "      <td>0</td>\n",
       "      <td>0.0000</td>\n",
       "      <td>0.000000</td>\n",
       "      <td>0</td>\n",
       "      <td>0</td>\n",
       "      <td>0</td>\n",
       "      <td>1</td>\n",
       "    </tr>\n",
       "    <tr>\n",
       "      <th>1</th>\n",
       "      <td>2022-05-06 21:58:40</td>\n",
       "      <td>29.866667</td>\n",
       "      <td>29.866667</td>\n",
       "      <td>0</td>\n",
       "      <td>16.7824</td>\n",
       "      <td>16.812799</td>\n",
       "      <td>0</td>\n",
       "      <td>1</td>\n",
       "      <td>225726050</td>\n",
       "      <td>194.678009</td>\n",
       "      <td>194.612000</td>\n",
       "      <td>29.866667</td>\n",
       "      <td>29.866667</td>\n",
       "      <td>0</td>\n",
       "      <td>16.7824</td>\n",
       "      <td>16.812799</td>\n",
       "      <td>0</td>\n",
       "      <td>177</td>\n",
       "      <td>213</td>\n",
       "      <td>0</td>\n",
       "    </tr>\n",
       "    <tr>\n",
       "      <th>2</th>\n",
       "      <td>2022-05-06 21:58:50</td>\n",
       "      <td>0.000000</td>\n",
       "      <td>0.000000</td>\n",
       "      <td>0</td>\n",
       "      <td>0.1552</td>\n",
       "      <td>0.148800</td>\n",
       "      <td>0</td>\n",
       "      <td>1</td>\n",
       "      <td>225726050</td>\n",
       "      <td>167.284012</td>\n",
       "      <td>167.197998</td>\n",
       "      <td>0.000000</td>\n",
       "      <td>0.000000</td>\n",
       "      <td>0</td>\n",
       "      <td>0.1552</td>\n",
       "      <td>0.148800</td>\n",
       "      <td>0</td>\n",
       "      <td>57</td>\n",
       "      <td>54</td>\n",
       "      <td>0</td>\n",
       "    </tr>\n",
       "    <tr>\n",
       "      <th>3</th>\n",
       "      <td>2022-05-06 21:59:00</td>\n",
       "      <td>14.952726</td>\n",
       "      <td>14.952726</td>\n",
       "      <td>0</td>\n",
       "      <td>10.5504</td>\n",
       "      <td>10.556801</td>\n",
       "      <td>0</td>\n",
       "      <td>1</td>\n",
       "      <td>225726050</td>\n",
       "      <td>167.266006</td>\n",
       "      <td>167.185989</td>\n",
       "      <td>14.952726</td>\n",
       "      <td>14.952726</td>\n",
       "      <td>0</td>\n",
       "      <td>10.5504</td>\n",
       "      <td>10.556801</td>\n",
       "      <td>0</td>\n",
       "      <td>187</td>\n",
       "      <td>205</td>\n",
       "      <td>0</td>\n",
       "    </tr>\n",
       "    <tr>\n",
       "      <th>4</th>\n",
       "      <td>2022-05-06 21:59:10</td>\n",
       "      <td>0.000000</td>\n",
       "      <td>0.000000</td>\n",
       "      <td>0</td>\n",
       "      <td>0.0000</td>\n",
       "      <td>0.000000</td>\n",
       "      <td>0</td>\n",
       "      <td>1</td>\n",
       "      <td>225726050</td>\n",
       "      <td>154.500000</td>\n",
       "      <td>154.487991</td>\n",
       "      <td>0.000000</td>\n",
       "      <td>0.000000</td>\n",
       "      <td>0</td>\n",
       "      <td>0.0000</td>\n",
       "      <td>0.000000</td>\n",
       "      <td>0</td>\n",
       "      <td>46</td>\n",
       "      <td>46</td>\n",
       "      <td>0</td>\n",
       "    </tr>\n",
       "    <tr>\n",
       "      <th>5</th>\n",
       "      <td>2022-05-06 21:59:20</td>\n",
       "      <td>0.000000</td>\n",
       "      <td>0.000000</td>\n",
       "      <td>0</td>\n",
       "      <td>0.0000</td>\n",
       "      <td>0.000000</td>\n",
       "      <td>0</td>\n",
       "      <td>1</td>\n",
       "      <td>225726050</td>\n",
       "      <td>192.596008</td>\n",
       "      <td>192.447998</td>\n",
       "      <td>0.000000</td>\n",
       "      <td>0.000000</td>\n",
       "      <td>0</td>\n",
       "      <td>0.0000</td>\n",
       "      <td>0.000000</td>\n",
       "      <td>0</td>\n",
       "      <td>189</td>\n",
       "      <td>172</td>\n",
       "      <td>1</td>\n",
       "    </tr>\n",
       "    <tr>\n",
       "      <th>6</th>\n",
       "      <td>2022-05-06 21:59:30</td>\n",
       "      <td>0.000000</td>\n",
       "      <td>0.000000</td>\n",
       "      <td>0</td>\n",
       "      <td>0.0000</td>\n",
       "      <td>0.000000</td>\n",
       "      <td>0</td>\n",
       "      <td>1</td>\n",
       "      <td>225726050</td>\n",
       "      <td>194.502014</td>\n",
       "      <td>194.419998</td>\n",
       "      <td>0.000000</td>\n",
       "      <td>0.000000</td>\n",
       "      <td>0</td>\n",
       "      <td>0.0000</td>\n",
       "      <td>0.000000</td>\n",
       "      <td>0</td>\n",
       "      <td>51</td>\n",
       "      <td>52</td>\n",
       "      <td>1</td>\n",
       "    </tr>\n",
       "  </tbody>\n",
       "</table>\n",
       "</div>"
      ],
      "text/plain": [
       "      event_timestamp  L_R1SDW_SPDREF  L_R1SDD_SPDREF  L_R1SDL_SPDREF  \\\n",
       "0 2022-05-06 21:58:30        0.000000        0.000000               0   \n",
       "1 2022-05-06 21:58:40       29.866667       29.866667               0   \n",
       "2 2022-05-06 21:58:50        0.000000        0.000000               0   \n",
       "3 2022-05-06 21:59:00       14.952726       14.952726               0   \n",
       "4 2022-05-06 21:59:10        0.000000        0.000000               0   \n",
       "5 2022-05-06 21:59:20        0.000000        0.000000               0   \n",
       "6 2022-05-06 21:59:30        0.000000        0.000000               0   \n",
       "\n",
       "   L_R1SDW_SPDFBK  L_R1SDD_SPDFBK  L_R1SDL_SPDFBK  L_R1_ODG_AUX_B07  \\\n",
       "0          0.0000        0.000000               0                 1   \n",
       "1         16.7824       16.812799               0                 1   \n",
       "2          0.1552        0.148800               0                 1   \n",
       "3         10.5504       10.556801               0                 1   \n",
       "4          0.0000        0.000000               0                 1   \n",
       "5          0.0000        0.000000               0                 1   \n",
       "6          0.0000        0.000000               0                 1   \n",
       "\n",
       "   RM1_RUNDOWN_ID_HS  L_R1SD_WS_GAP  L_R1SD_DS_GAP  L_R1SD_WS_SPDREF  \\\n",
       "0          225726050     194.680008     194.619995          0.000000   \n",
       "1          225726050     194.678009     194.612000         29.866667   \n",
       "2          225726050     167.284012     167.197998          0.000000   \n",
       "3          225726050     167.266006     167.185989         14.952726   \n",
       "4          225726050     154.500000     154.487991          0.000000   \n",
       "5          225726050     192.596008     192.447998          0.000000   \n",
       "6          225726050     194.502014     194.419998          0.000000   \n",
       "\n",
       "   L_R1SD_DS_SPDREF  L_R1SDLS_SPDREF  L_R1SD_WS_SPDFBK  L_R1SD_DS_SPDFBK  \\\n",
       "0          0.000000                0            0.0000          0.000000   \n",
       "1         29.866667                0           16.7824         16.812799   \n",
       "2          0.000000                0            0.1552          0.148800   \n",
       "3         14.952726                0           10.5504         10.556801   \n",
       "4          0.000000                0            0.0000          0.000000   \n",
       "5          0.000000                0            0.0000          0.000000   \n",
       "6          0.000000                0            0.0000          0.000000   \n",
       "\n",
       "   L_R1SDLS_SPDFBK  L_R1SD_WS_CUR  L_R1SD_DS_CUR  L_R1_CNT_PASS0  \n",
       "0                0              0              0               1  \n",
       "1                0            177            213               0  \n",
       "2                0             57             54               0  \n",
       "3                0            187            205               0  \n",
       "4                0             46             46               0  \n",
       "5                0            189            172               1  \n",
       "6                0             51             52               1  "
      ]
     },
     "execution_count": 23,
     "metadata": {},
     "output_type": "execute_result"
    }
   ],
   "source": [
    "resampled_df"
   ]
  },
  {
   "cell_type": "code",
   "execution_count": 9,
   "id": "c2b7b1ff-a05c-4980-85f4-1ac94bde078a",
   "metadata": {},
   "outputs": [
    {
     "data": {
      "text/plain": [
       "(7, 20)"
      ]
     },
     "execution_count": 9,
     "metadata": {},
     "output_type": "execute_result"
    }
   ],
   "source": [
    "resampled_df.shape"
   ]
  },
  {
   "cell_type": "markdown",
   "id": "e93b457a-3492-436e-ac9f-f5667e82336b",
   "metadata": {},
   "source": [
    "##### Now, I define a function save_tag_output_df to save the tag responses of each tag"
   ]
  },
  {
   "cell_type": "code",
   "execution_count": 103,
   "id": "7c8ef7d4-15e2-4983-a9ba-fea74a32a20d",
   "metadata": {},
   "outputs": [],
   "source": [
    "def save_tag_output_df(tag):\n",
    "    keys=['event_timestamp','tag_id','tag_name','tag_desc','tag_value','tag_unit']\n",
    "    values=[resampled_df.event_timestamp.values,np.empty(shape=(7)),np.empty(shape=(7)),np.empty(shape=(7)),np.empty(shape=(7)),np.empty(shape=(7))]\n",
    "    output_dict=dict([(k,v) for k,v in zip(keys,values)])\n",
    "    output_df['tag_name']=tag\n",
    "    output_df['tag_desc']=schema_df.Comment.loc[tag].split('(')[0]\n",
    "    output_df['tag_value']=resampled_df[tag]\n",
    "    unit=pattern.search(schema_df.Comment.loc[tag])\n",
    "    if unit==None:\n",
    "        output_df['tag_unit']=' '\n",
    "    else:\n",
    "        output_df['tag_unit']=unit.group()[1:-1]\n",
    "    output_df.to_csv(Path('{}_df.csv'.format(tag)),index=False)"
   ]
  },
  {
   "cell_type": "code",
   "execution_count": 96,
   "id": "4ae02912-eb18-4f95-8507-d6636be4a1d7",
   "metadata": {},
   "outputs": [],
   "source": [
    "pattern=re.compile(r'\\([a-zA-Z]+\\)')"
   ]
  },
  {
   "cell_type": "code",
   "execution_count": 104,
   "id": "b9a969d8-5496-45f4-bcca-cb25db26f453",
   "metadata": {},
   "outputs": [],
   "source": [
    "for tag in resampled_df.drop('event_timestamp',axis='columns'):\n",
    "    save_tag_output_df(tag)"
   ]
  },
  {
   "cell_type": "code",
   "execution_count": 105,
   "id": "3198debd-61ce-45b7-b658-8a2ccc240cec",
   "metadata": {},
   "outputs": [
    {
     "data": {
      "text/html": [
       "<div>\n",
       "<style scoped>\n",
       "    .dataframe tbody tr th:only-of-type {\n",
       "        vertical-align: middle;\n",
       "    }\n",
       "\n",
       "    .dataframe tbody tr th {\n",
       "        vertical-align: top;\n",
       "    }\n",
       "\n",
       "    .dataframe thead th {\n",
       "        text-align: right;\n",
       "    }\n",
       "</style>\n",
       "<table border=\"1\" class=\"dataframe\">\n",
       "  <thead>\n",
       "    <tr style=\"text-align: right;\">\n",
       "      <th></th>\n",
       "      <th>event_timestamp</th>\n",
       "      <th>tag_id</th>\n",
       "      <th>tag_name</th>\n",
       "      <th>tag_desc</th>\n",
       "      <th>tag_value</th>\n",
       "      <th>tag_unit</th>\n",
       "    </tr>\n",
       "  </thead>\n",
       "  <tbody>\n",
       "    <tr>\n",
       "      <th>0</th>\n",
       "      <td>2022-05-06 21:58:30</td>\n",
       "      <td>2.992900e-198</td>\n",
       "      <td>L_R1SDL_SPDREF</td>\n",
       "      <td>R1 Screw Down LS Speed Reference</td>\n",
       "      <td>0</td>\n",
       "      <td>mps</td>\n",
       "    </tr>\n",
       "    <tr>\n",
       "      <th>1</th>\n",
       "      <td>2022-05-06 21:58:40</td>\n",
       "      <td>2.992903e-198</td>\n",
       "      <td>L_R1SDL_SPDREF</td>\n",
       "      <td>R1 Screw Down LS Speed Reference</td>\n",
       "      <td>0</td>\n",
       "      <td>mps</td>\n",
       "    </tr>\n",
       "    <tr>\n",
       "      <th>2</th>\n",
       "      <td>2022-05-06 21:58:50</td>\n",
       "      <td>2.992907e-198</td>\n",
       "      <td>L_R1SDL_SPDREF</td>\n",
       "      <td>R1 Screw Down LS Speed Reference</td>\n",
       "      <td>0</td>\n",
       "      <td>mps</td>\n",
       "    </tr>\n",
       "    <tr>\n",
       "      <th>3</th>\n",
       "      <td>2022-05-06 21:59:00</td>\n",
       "      <td>2.992911e-198</td>\n",
       "      <td>L_R1SDL_SPDREF</td>\n",
       "      <td>R1 Screw Down LS Speed Reference</td>\n",
       "      <td>0</td>\n",
       "      <td>mps</td>\n",
       "    </tr>\n",
       "    <tr>\n",
       "      <th>4</th>\n",
       "      <td>2022-05-06 21:59:10</td>\n",
       "      <td>2.992914e-198</td>\n",
       "      <td>L_R1SDL_SPDREF</td>\n",
       "      <td>R1 Screw Down LS Speed Reference</td>\n",
       "      <td>0</td>\n",
       "      <td>mps</td>\n",
       "    </tr>\n",
       "    <tr>\n",
       "      <th>5</th>\n",
       "      <td>2022-05-06 21:59:20</td>\n",
       "      <td>2.992918e-198</td>\n",
       "      <td>L_R1SDL_SPDREF</td>\n",
       "      <td>R1 Screw Down LS Speed Reference</td>\n",
       "      <td>0</td>\n",
       "      <td>mps</td>\n",
       "    </tr>\n",
       "    <tr>\n",
       "      <th>6</th>\n",
       "      <td>2022-05-06 21:59:30</td>\n",
       "      <td>2.992922e-198</td>\n",
       "      <td>L_R1SDL_SPDREF</td>\n",
       "      <td>R1 Screw Down LS Speed Reference</td>\n",
       "      <td>0</td>\n",
       "      <td>mps</td>\n",
       "    </tr>\n",
       "  </tbody>\n",
       "</table>\n",
       "</div>"
      ],
      "text/plain": [
       "       event_timestamp         tag_id        tag_name  \\\n",
       "0  2022-05-06 21:58:30  2.992900e-198  L_R1SDL_SPDREF   \n",
       "1  2022-05-06 21:58:40  2.992903e-198  L_R1SDL_SPDREF   \n",
       "2  2022-05-06 21:58:50  2.992907e-198  L_R1SDL_SPDREF   \n",
       "3  2022-05-06 21:59:00  2.992911e-198  L_R1SDL_SPDREF   \n",
       "4  2022-05-06 21:59:10  2.992914e-198  L_R1SDL_SPDREF   \n",
       "5  2022-05-06 21:59:20  2.992918e-198  L_R1SDL_SPDREF   \n",
       "6  2022-05-06 21:59:30  2.992922e-198  L_R1SDL_SPDREF   \n",
       "\n",
       "                            tag_desc  tag_value tag_unit  \n",
       "0  R1 Screw Down LS Speed Reference           0      mps  \n",
       "1  R1 Screw Down LS Speed Reference           0      mps  \n",
       "2  R1 Screw Down LS Speed Reference           0      mps  \n",
       "3  R1 Screw Down LS Speed Reference           0      mps  \n",
       "4  R1 Screw Down LS Speed Reference           0      mps  \n",
       "5  R1 Screw Down LS Speed Reference           0      mps  \n",
       "6  R1 Screw Down LS Speed Reference           0      mps  "
      ]
     },
     "execution_count": 105,
     "metadata": {},
     "output_type": "execute_result"
    }
   ],
   "source": [
    "pd.read_csv('L_R1SDL_SPDREF_df.csv')"
   ]
  }
 ],
 "metadata": {
  "kernelspec": {
   "display_name": "Python 3 (ipykernel)",
   "language": "python",
   "name": "python3"
  },
  "language_info": {
   "codemirror_mode": {
    "name": "ipython",
    "version": 3
   },
   "file_extension": ".py",
   "mimetype": "text/x-python",
   "name": "python",
   "nbconvert_exporter": "python",
   "pygments_lexer": "ipython3",
   "version": "3.10.4"
  }
 },
 "nbformat": 4,
 "nbformat_minor": 5
}
